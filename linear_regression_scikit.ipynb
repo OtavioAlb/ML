{
 "cells": [
  {
   "cell_type": "code",
   "execution_count": 2,
   "metadata": {},
   "outputs": [
    {
     "name": "stdout",
     "output_type": "stream",
     "text": [
      "['MedInc', 'HouseAge', 'AveRooms', 'AveBedrms', 'Population', 'AveOccup', 'Latitude', 'Longitude']\n",
      "['MedHouseVal']\n"
     ]
    },
    {
     "data": {
      "text/html": [
       "<div>\n",
       "<style scoped>\n",
       "    .dataframe tbody tr th:only-of-type {\n",
       "        vertical-align: middle;\n",
       "    }\n",
       "\n",
       "    .dataframe tbody tr th {\n",
       "        vertical-align: top;\n",
       "    }\n",
       "\n",
       "    .dataframe thead th {\n",
       "        text-align: right;\n",
       "    }\n",
       "</style>\n",
       "<table border=\"1\" class=\"dataframe\">\n",
       "  <thead>\n",
       "    <tr style=\"text-align: right;\">\n",
       "      <th></th>\n",
       "      <th>MedInc</th>\n",
       "      <th>HouseAge</th>\n",
       "      <th>AveRooms</th>\n",
       "      <th>AveBedrms</th>\n",
       "      <th>Population</th>\n",
       "      <th>AveOccup</th>\n",
       "      <th>Latitude</th>\n",
       "      <th>Longitude</th>\n",
       "      <th>MedHouseValue</th>\n",
       "    </tr>\n",
       "  </thead>\n",
       "  <tbody>\n",
       "    <tr>\n",
       "      <th>0</th>\n",
       "      <td>8.3252</td>\n",
       "      <td>41.0</td>\n",
       "      <td>6.984127</td>\n",
       "      <td>1.023810</td>\n",
       "      <td>322.0</td>\n",
       "      <td>2.555556</td>\n",
       "      <td>37.88</td>\n",
       "      <td>-122.23</td>\n",
       "      <td>4.526</td>\n",
       "    </tr>\n",
       "    <tr>\n",
       "      <th>1</th>\n",
       "      <td>8.3014</td>\n",
       "      <td>21.0</td>\n",
       "      <td>6.238137</td>\n",
       "      <td>0.971880</td>\n",
       "      <td>2401.0</td>\n",
       "      <td>2.109842</td>\n",
       "      <td>37.86</td>\n",
       "      <td>-122.22</td>\n",
       "      <td>3.585</td>\n",
       "    </tr>\n",
       "    <tr>\n",
       "      <th>2</th>\n",
       "      <td>7.2574</td>\n",
       "      <td>52.0</td>\n",
       "      <td>8.288136</td>\n",
       "      <td>1.073446</td>\n",
       "      <td>496.0</td>\n",
       "      <td>2.802260</td>\n",
       "      <td>37.85</td>\n",
       "      <td>-122.24</td>\n",
       "      <td>3.521</td>\n",
       "    </tr>\n",
       "    <tr>\n",
       "      <th>3</th>\n",
       "      <td>5.6431</td>\n",
       "      <td>52.0</td>\n",
       "      <td>5.817352</td>\n",
       "      <td>1.073059</td>\n",
       "      <td>558.0</td>\n",
       "      <td>2.547945</td>\n",
       "      <td>37.85</td>\n",
       "      <td>-122.25</td>\n",
       "      <td>3.413</td>\n",
       "    </tr>\n",
       "    <tr>\n",
       "      <th>4</th>\n",
       "      <td>3.8462</td>\n",
       "      <td>52.0</td>\n",
       "      <td>6.281853</td>\n",
       "      <td>1.081081</td>\n",
       "      <td>565.0</td>\n",
       "      <td>2.181467</td>\n",
       "      <td>37.85</td>\n",
       "      <td>-122.25</td>\n",
       "      <td>3.422</td>\n",
       "    </tr>\n",
       "  </tbody>\n",
       "</table>\n",
       "</div>"
      ],
      "text/plain": [
       "   MedInc  HouseAge  AveRooms  AveBedrms  Population  AveOccup  Latitude  \\\n",
       "0  8.3252      41.0  6.984127   1.023810       322.0  2.555556     37.88   \n",
       "1  8.3014      21.0  6.238137   0.971880      2401.0  2.109842     37.86   \n",
       "2  7.2574      52.0  8.288136   1.073446       496.0  2.802260     37.85   \n",
       "3  5.6431      52.0  5.817352   1.073059       558.0  2.547945     37.85   \n",
       "4  3.8462      52.0  6.281853   1.081081       565.0  2.181467     37.85   \n",
       "\n",
       "   Longitude  MedHouseValue  \n",
       "0    -122.23          4.526  \n",
       "1    -122.22          3.585  \n",
       "2    -122.24          3.521  \n",
       "3    -122.25          3.413  \n",
       "4    -122.25          3.422  "
      ]
     },
     "execution_count": 2,
     "metadata": {},
     "output_type": "execute_result"
    }
   ],
   "source": [
    "import numpy as np\n",
    "import pandas as pd\n",
    "from sklearn.model_selection import train_test_split\n",
    "from sklearn.linear_model import LinearRegression\n",
    "from sklearn.datasets import fetch_california_housing\n",
    "\n",
    "data = fetch_california_housing()\n",
    "print (data.feature_names)\n",
    "print (data.target_names)\n",
    "\n",
    "df = pd.DataFrame(data.data, columns=data.feature_names) # Cria o dataframe de atributos\n",
    "df['MedHouseValue'] = data.target # Define o atributo alvo\n",
    "\n",
    "df.head()"
   ]
  },
  {
   "cell_type": "code",
   "execution_count": 5,
   "metadata": {},
   "outputs": [
    {
     "name": "stdout",
     "output_type": "stream",
     "text": [
      "(500, 1)\n"
     ]
    }
   ],
   "source": [
    "# Recorte do dataframe para exercício\n",
    "\n",
    "sample_df = df.sample(n=500, random_state=42)\n",
    "\n",
    "# Selecionar X e y\n",
    "#X = selected_df.iloc[:, :-1]  # Todas as colunas menos a última\n",
    "X = sample_df[[\"MedInc\"]]  # Apenas \"MedInc\" para facilitar a visualização\n",
    "y = sample_df.iloc[:, -1]   # Apenas a última coluna\n",
    "print(X.shape)\n",
    "# Dividir os dados em conjuntos de treino (70%) e teste (30%)\n",
    "X_train, X_test, y_train, y_test = train_test_split(X, y, test_size=0.3, random_state=42)\n",
    "\n",
    "# Treinar um modelo de Regressão Linear\n",
    "model = LinearRegression()  # Instanciar o modelo\n",
    "model.fit(X_train, y_train)  # Treinar o modelo com os dados de treino\n",
    "\n",
    "# Fazer previsões no conjunto de teste\n",
    "yhat = model.predict(X_test)"
   ]
  },
  {
   "cell_type": "code",
   "execution_count": 6,
   "metadata": {},
   "outputs": [
    {
     "data": {
      "image/png": "[encoded data removed]",
      "text/plain": [
       "<Figure size 800x600 with 1 Axes>"
      ]
     },
     "metadata": {},
     "output_type": "display_data"
    }
   ],
   "source": [
    "import matplotlib.pyplot as plt\n",
    "\n",
    "plt.figure(figsize=(8, 6))\n",
    "plt.scatter(X_test, y_test, color=\"blue\", label=\"Dados\")\n",
    "plt.plot(X_test.to_numpy(), yhat, color=\"red\", label=\"Reta\")  # Previsões do modelo\n",
    "plt.xlabel(\"MedInc\")\n",
    "plt.ylabel(\"MedHouseValue\")\n",
    "plt.title(\"Regressão Linear: MedInc x MedHouseValue\")\n",
    "plt.legend()\n",
    "plt.show()"
   ]
  },
  {
   "cell_type": "code",
   "execution_count": 61,
   "metadata": {},
   "outputs": [
    {
     "name": "stdout",
     "output_type": "stream",
     "text": [
      "R² = 0.508\n",
      "MAE = 0.676\n",
      "MSE = 0.747\n",
      "RMSE = 0.864\n",
      "\n",
      "Coeficientes do Modelo:\n",
      "  Variável  Intercept  Coeficiente\n",
      "0   MedInc   0.553232     0.387736\n"
     ]
    }
   ],
   "source": [
    "from sklearn.metrics import mean_absolute_error, mean_squared_error, r2_score\n",
    "\n",
    "# Erro Absoluto Médio (MAE):\n",
    "# Mede o erro médio absoluto entre os valores previstos e os reais.\n",
    "# É fácil de interpretar, pois mantém a mesma unidade do valor de saída (y).\n",
    "# Valor ideal: MAE próximo de 0 (indica que as previsões estão muito próximas dos valores reais).\n",
    "mae = mean_absolute_error(y_test,yhat)  \n",
    "\n",
    "# Erro Quadrático Médio (MSE):\n",
    "# Mede o erro médio quadrático entre os valores previstos e os reais.\n",
    "# Penaliza erros maiores de forma mais severa (devido à elevação ao quadrado).\n",
    "# Valor ideal: MSE próximo de 0. Quanto menor, melhor.\n",
    "mse = mean_squared_error(y_test,yhat)  \n",
    "\n",
    "# Raiz do Erro Quadrático Médio (RMSE):\n",
    "# É a raiz quadrada do MSE. Mede o erro médio, mantendo a unidade de saída (y).\n",
    "# Ideal para interpretar o erro médio em problemas práticos.\n",
    "# Valor ideal: RMSE próximo de 0, semelhante ao MAE.\n",
    "rmse = np.sqrt(mse)               \n",
    "\n",
    "# coeficiente de determinação:\n",
    "# Mede a proporção da variância nos dados reais que é explicada pelo modelo.\n",
    "# Valor ideal: R² próximo de 1.0 (indica um ótimo ajuste).\n",
    "# Se R² < 0, significa que o modelo é pior que a média simples dos dados.\n",
    "r2 = r2_score(y_test, yhat) \n",
    "print(f\"R² = {r2:.3f}\\nMAE = {mae:.3f}\\nMSE = {mse:.3f}\\nRMSE = {rmse:.3f}\")\n",
    "\n",
    "# Mostrar os coeficientes do modelo\n",
    "print(\"\\nCoeficientes do Modelo:\")\n",
    "coef_df = pd.DataFrame({\n",
    "    'Variável': X.columns, \n",
    "    'Intercept': model.intercept_, # w0\n",
    "    'Coeficiente': model.coef_ # mostra os pesos ou coeficientes das variáveis independentes\n",
    "})\n",
    "print(coef_df)\n",
    "\n"
   ]
  },
  {
   "cell_type": "code",
   "execution_count": 11,
   "metadata": {},
   "outputs": [
    {
     "name": "stdout",
     "output_type": "stream",
     "text": [
      "\n",
      "Preço previsto para casa com 40 anos, média de 5 cômodos e média de 2 quartos: R$ 580.67\n"
     ]
    },
    {
     "name": "stderr",
     "output_type": "stream",
     "text": [
      "c:\\Users\\oalbu\\AppData\\Local\\Programs\\Python\\Python310\\lib\\site-packages\\sklearn\\base.py:450: UserWarning: X does not have valid feature names, but LinearRegression was fitted with feature names\n",
      "  warnings.warn(\n"
     ]
    }
   ],
   "source": [
    "# Fazer uma previsão para novos dados\n",
    "novo_dado = np.array([[40, 5, 2]])  # age=40, cômodos=5, quartos=2\n",
    "previsao = model.predict(novo_dado)\n",
    "print(f\"\\nPreço previsto para casa com {novo_dado[0, 0]} anos, média de {novo_dado[0, 1]} cômodos e média de {novo_dado[0, 2]} quartos: R$ {previsao[0]*1000:.2f}\")"
   ]
  }
 ],
 "metadata": {
  "kernelspec": {
   "display_name": "Python 3",
   "language": "python",
   "name": "python3"
  },
  "language_info": {
   "codemirror_mode": {
    "name": "ipython",
    "version": 3
   },
   "file_extension": ".py",
   "mimetype": "text/x-python",
   "name": "python",
   "nbconvert_exporter": "python",
   "pygments_lexer": "ipython3",
   "version": "3.10.1"
  }
 },
 "nbformat": 4,
 "nbformat_minor": 2
}
