{
 "cells": [
  {
   "cell_type": "markdown",
   "metadata": {},
   "source": [
    "# Linear Regression"
   ]
  },
  {
   "cell_type": "markdown",
   "metadata": {},
   "source": [
    "### Contexto do Problema\n",
    "\n",
    "Dado o conjunto de dados de treinamento:\n",
    "\n",
    "$$\n",
    "X = \\Big\\{(x_1, y_1), (x_2, y_2), \\ldots, (x_N, y_N)\\Big\\},\n",
    "$$\n",
    "\n",
    "onde $\\mathbf{x}^{(i)} \\in \\mathbb{R}^{d}$ e $y^{(i)} \\in \\mathbb{R}$, $; i = 1, 2, \\ldots, N$, considere:\n",
    "\n",
    "\n",
    "\n",
    "- $\\mathbf{x} = (x_1, \\ldots, x_d) \\in \\mathbb{R}^d$, que representa os atributos das observações no espaço de entrada.\n",
    "- Adicionamos uma coordenada artificial $x_0 = 1$, tal que $\\tilde{\\mathbf{x}} = (1, x_1, \\ldots, x_d) \\in \\mathbb{R}^{1+d}$.\n",
    "\n",
    "Nosso objetivo é ajustar um modelo de **regressão linear** para prever os valores $y_i$ a partir de $\\mathbf{x}_i$, assumindo que a relação entre as variáveis $\\mathbf{x}$ e $y$ pode ser aproximada linearmente:\n",
    "\n",
    "$$\n",
    "\\hat{y} = \\mathbf{w}^T \\tilde{\\mathbf{x}},\n",
    "$$\n",
    "\n",
    "onde $\\mathbf{w} = (w_0, w_1, \\ldots, w_d) \\in \\mathbb{R}^{1+d}$ é o vetor de pesos.\n",
    "\n",
    "A função de custo a ser minimizada é o **Erro Quadrático Médio (MSE)**, dado por:\n",
    "\n",
    "$$\n",
    "\\text{MSE} = \\frac{1}{N} \\sum_{i=1}^N \\Big(y_i - \\hat{y}\\Big)^2.\n",
    "$$\n",
    "\n"
   ]
  },
  {
   "cell_type": "markdown",
   "metadata": {},
   "source": [
    "### Derivação da Função de Custo\n",
    "\n",
    "A função de custo da **regressão linear** é definida como o **Erro Quadrático Médio (MSE)**:\n",
    "\n",
    "$$\n",
    "J(\\mathbf{w}) = \\frac{1}{N} \\sum_{i=1}^N \\Big(y_i - \\hat{y}\\Big)^2.\n",
    "$$\n",
    "\n",
    "### Forma Vetorial\n",
    "\n",
    "Definimos:\n",
    "\n",
    "- $\\mathbf{X} \\in \\mathbb{R}^{N \\times (d+1)}$, sendo a matriz de atributos com coordenada artificial $1$ adicionada:\n",
    "\n",
    "$$\n",
    "\\mathbf{X} =\n",
    "\\begin{bmatrix}\n",
    "1 & x_{11} & x_{12} & \\cdots & x_{1d} \\\\\n",
    "1 & x_{21} & x_{22} & \\cdots & x_{2d} \\\\\n",
    "\\vdots & \\vdots & \\vdots & \\ddots & \\vdots \\\\\n",
    "1 & x_{N1} & x_{N2} & \\cdots & x_{Nd}\n",
    "\\end{bmatrix}.\n",
    "$$\n",
    "\n",
    "- $\\mathbf{y} \\in \\mathbb{R}^N$, sendo o vetor com os valores observados $y_i$:\n",
    "\n",
    "$$\n",
    "\\mathbf{y} = \n",
    "\\begin{bmatrix}\n",
    "y_1 \\\\\n",
    "y_2 \\\\\n",
    "\\vdots \\\\\n",
    "y_N\n",
    "\\end{bmatrix}.\n",
    "$$\n",
    "\n",
    "- $\\mathbf{w} \\in \\mathbb{R}^{d+1}$, sendo o vetor de pesos.\n",
    "\n",
    "Expandindo a fórmula:\n",
    "\n",
    "$$\n",
    "J(\\mathbf{w}) = \\frac{1}{N} (\\mathbf{y} - \\mathbf{X}\\mathbf{w})^T (\\mathbf{y} - \\mathbf{X}\\mathbf{w}).\n",
    "$$\n",
    "\n",
    "### Gradiente da Função de Custo\n",
    "\n",
    "Para minimizar $J(\\mathbf{w})$, calculamos o gradiente em relação a $\\mathbf{w}$:\n",
    "\n",
    "$$\n",
    "\\nabla_{\\mathbf{w}}J(\\mathbf{w}) = \\frac{2}{N} (\\mathbf{X}^{T}\\mathbf{y} -\\mathbf{X}^{T}\\mathbf{X}\\mathbf{w})\n",
    "$$\n",
    "\n",
    "$$\n",
    "\\nabla_{\\mathbf{w}} J(\\mathbf{w}) = -\\frac{2}{N} \\mathbf{X}^T (\\mathbf{y} - \\mathbf{X}\\mathbf{w}).\n",
    "$$\n",
    "\n",
    "### Condição de Otimalidade\n",
    "\n",
    "Para encontrar o mínimo, igualamos o gradiente a zero:\n",
    "\n",
    "$$\n",
    "\\nabla_{\\mathbf{w}} J(\\mathbf{w}) = 0.\n",
    "$$\n",
    "\n",
    "Portanto:\n",
    "\n",
    "$$\n",
    "-\\frac{2}{N} \\mathbf{X}^T (\\mathbf{y} - \\mathbf{X}\\mathbf{w}) = 0.\n",
    "$$\n",
    "\n",
    "Simplificando:\n",
    "\n",
    "$$\n",
    "\\mathbf{X}^T (\\mathbf{y} - \\mathbf{X}\\mathbf{w}) = 0.\n",
    "$$\n",
    "\n",
    "Distribuímos o produto interno:\n",
    "\n",
    "$$\n",
    "\\mathbf{X}^T\\mathbf{y} - \\mathbf{X}^T\\mathbf{X}\\mathbf{w} = 0.\n",
    "$$\n",
    "\n",
    "Reorganizamos para isolar $\\mathbf{w}$:\n",
    "\n",
    "$$\n",
    "\\mathbf{X}^T\\mathbf{y} = \\mathbf{X}^T\\mathbf{X}\\mathbf{w}.\n",
    "$$\n",
    "\n",
    "Multiplicamos ambos os lados pela inversa de $\\mathbf{X}^T\\mathbf{X}$ (assumindo que $\\mathbf{X}^T\\mathbf{X}$ é invertível):\n",
    "\n",
    "$$\n",
    "\\mathbf{w} = (\\mathbf{X}^T\\mathbf{X})^{-1}\\mathbf{X}^T\\mathbf{y}.\n",
    "$$\n"
   ]
  },
  {
   "cell_type": "markdown",
   "metadata": {},
   "source": [
    "## Praticando..."
   ]
  },
  {
   "cell_type": "markdown",
   "metadata": {},
   "source": [
    "### Dados de Treinamento\n",
    "\n",
    "- O espaço de entrada será representado por $\\mathbb{R}^1$, ou seja, uma linha reta onde cada ponto é descrito por um número real: $\\mathbf{x}$.\n",
    "- Nosso conjunto de dados conterá $N$ pontos distribuídos no intervalo $[0, 2] \\subseteq \\mathbb{R}^1$.\n",
    "- O valor $y$ de cada ponto será calculado por uma função linear com ruído adicionado:\n",
    "\n",
    "$$\n",
    "y = f(x) + \\epsilon,\n",
    "$$\n",
    "\n",
    "onde \n",
    "\n",
    "$$\n",
    "f(x) = w_0 + wx\n",
    "$$\n",
    "\n",
    "e $\\epsilon$ é um termo de ruído gaussiano $\\epsilon \\sim \\mathcal{N}(0, \\sigma^2)$.\n",
    "\n",
    "---\n",
    "\n",
    "### Ilustração\n",
    "\n",
    "- Traçaremos um gráfico com os dados de treinamento, onde os valores reais $y_i$ serão representados por **pontos** e a predição $\\hat{y}_i$ pelo modelo será representada por uma **linha contínua**.\n",
    "- A linha ajustada representará a melhor aproximação linear aos dados, obtida minimizando o erro quadrático médio.\n",
    "\n",
    "---\n",
    "\n",
    "### Exercício\n",
    "\n",
    "1. Gere $N$ pontos de treinamento $(x, y)$ de forma aleatória dentro do intervalo $[0, 2]$.\n",
    "2. Ajuste o modelo de regressão linear $\\hat{y} = \\mathbf{w}^T \\tilde{\\mathbf{x}}$ onde $\\tilde{\\mathbf{x}} = (1, x)$ inclui o termo $1$ como coordenada artificial.\n",
    "\n",
    "3. Plote:\n",
    "    - Os pontos de treinamento $(x, y)$ como pontos dispersos no gráfico.\n",
    "    - A linha de regressão ajustada no mesmo gráfico.\n",
    "\n"
   ]
  },
  {
   "cell_type": "code",
   "execution_count": 1,
   "metadata": {},
   "outputs": [],
   "source": [
    "import numpy as np\n",
    "import pandas as pd\n",
    "import matplotlib.pyplot as plt\n",
    "\n",
    "N = 100  # Número de pontos\n",
    "w = np.asarray([[1.0],[2.0]]) # pesos\n",
    "sigma = 0.2  # Desvio padrão do ruído\n",
    "\n",
    "xmin = ymin = -1\n",
    "xmax = ymax = 2\n",
    "\n",
    "np.random.seed(42)\n",
    "X = np.random.uniform(xmin, xmax, size=(N, 1)) # Cria um array com dados aleatórios com N = 6 e d = 2.\n",
    "Xe = np.column_stack((np.ones(X.shape[0]), X)) # Array estendido com 1s\n",
    "\n",
    "# Calcular y com ruído\n",
    "epsilon = np.random.normal(0, sigma, N).reshape(-1, 1)  # Ruído gaussiano\n",
    "y = np.dot(Xe, w) + epsilon"
   ]
  },
  {
   "cell_type": "code",
   "execution_count": 2,
   "metadata": {},
   "outputs": [
    {
     "data": {
      "image/png": "[encoded data removed]",
      "text/plain": [
       "<Figure size 800x600 with 1 Axes>"
      ]
     },
     "metadata": {},
     "output_type": "display_data"
    }
   ],
   "source": [
    "# Visualizar os dados\n",
    "plt.figure(figsize=(8, 6))\n",
    "plt.scatter(X, y, color='blue', label='Pontos de treinamento')\n",
    "plt.xlabel('X')\n",
    "plt.ylabel('y')\n",
    "plt.title('Dataset d=1')\n",
    "plt.legend()\n",
    "plt.grid(True)\n",
    "plt.show()"
   ]
  },
  {
   "cell_type": "markdown",
   "metadata": {},
   "source": [
    "### Função do cáclulo do peso"
   ]
  },
  {
   "cell_type": "code",
   "execution_count": 3,
   "metadata": {},
   "outputs": [],
   "source": [
    "def equation_weights(X, y):\n",
    "    \"\"\"\n",
    "    Calculates the weights of a linear function using the normal equation method.\n",
    "    You should add into X a new column with 1s.\n",
    "\n",
    "    :param X: design matrix\n",
    "    :type X: np.ndarray(shape=(N, d))\n",
    "    :param y: regression targets\n",
    "    :type y: np.ndarray(shape=(N, 1))\n",
    "    :return: weight vector\n",
    "    :rtype: np.ndarray(shape=(d+1, 1))\n",
    "    \"\"\"\n",
    "    Xe = np.column_stack((np.ones(X.shape[0]), X))\n",
    "    w = np.linalg.inv(Xe.T @ Xe)@(Xe.T @ y)\n",
    "    return w\n",
    "    "
   ]
  },
  {
   "cell_type": "code",
   "execution_count": 4,
   "metadata": {},
   "outputs": [
    {
     "name": "stdout",
     "output_type": "stream",
     "text": [
      "Estimated w =\n",
      " [[1.01236768]\n",
      " [1.96934845]]\n"
     ]
    }
   ],
   "source": [
    "w = equation_weights(X, y)\n",
    "print(\"Estimated w =\\n\", w)"
   ]
  },
  {
   "cell_type": "markdown",
   "metadata": {},
   "source": [
    "### Predição"
   ]
  },
  {
   "cell_type": "code",
   "execution_count": 5,
   "metadata": {},
   "outputs": [],
   "source": [
    "def prediction(X, w):\n",
    "    \"\"\"\n",
    "    Calculates the prediction over a set of observations X using the linear function\n",
    "    characterized by the weight vector w.\n",
    "    You should add into X a new column with 1s.\n",
    "\n",
    "    :param X: design matrix\n",
    "    :type X: np.ndarray(shape=(N, d))\n",
    "    :param w: weight vector\n",
    "    :type w: np.ndarray(shape=(d+1, 1))\n",
    "    :param y: regression prediction\n",
    "    :type y: np.ndarray(shape=(N, 1))\n",
    "    \"\"\"\n",
    "    Xe = np.column_stack((np.ones(X.shape[0]), X))\n",
    "    yhat = np.dot(Xe,w) \n",
    "    return yhat"
   ]
  },
  {
   "cell_type": "markdown",
   "metadata": {},
   "source": [
    "### Desenhar os dados e a reta da regressão linear"
   ]
  },
  {
   "cell_type": "code",
   "execution_count": 6,
   "metadata": {},
   "outputs": [],
   "source": [
    "def plot_linear_regression(X, y, y_pred, title=\"Regressão Linear (1D)\", xlabel=\"X\", ylabel=\"y\"):\n",
    "    \"\"\"\n",
    "    Função para plotar a regressão linear em 1D.\n",
    "    \n",
    "    Parâmetros:\n",
    "    - X: array-like, valores da variável independente.\n",
    "    - y_true: array-like, valores reais da variável dependente.\n",
    "    - y_pred: array-like, valores previstos pelo modelo.\n",
    "    - w: array-like, coeficientes da regressão (w = [w0, w1]).\n",
    "    - title: str, título do gráfico.\n",
    "    - xlabel: str, rótulo do eixo x.\n",
    "    - ylabel: str, rótulo do eixo y.\n",
    "    \"\"\"\n",
    "    plt.figure(figsize=(8, 6))\n",
    "\n",
    "    # Plotar os dados reais\n",
    "    plt.scatter(X, y, color='blue', label='Dados Reais', alpha=0.6)\n",
    "\n",
    "    # Plotar a linha de regressão\n",
    "    plt.plot(X, y_pred, color='red', label=f'Regressão linear', linewidth=2)\n",
    "\n",
    "    # Configurações do gráfico\n",
    "    plt.title(title, fontsize=14)\n",
    "    plt.xlabel(xlabel, fontsize=12)\n",
    "    plt.ylabel(ylabel, fontsize=12)\n",
    "    plt.legend(fontsize=10)\n",
    "    plt.grid(True)\n",
    "    plt.show()"
   ]
  },
  {
   "cell_type": "code",
   "execution_count": 7,
   "metadata": {},
   "outputs": [
    {
     "data": {
      "image/png": "[encoded data removed]",
      "text/plain": [
       "<Figure size 800x600 with 1 Axes>"
      ]
     },
     "metadata": {},
     "output_type": "display_data"
    }
   ],
   "source": [
    "yhat = prediction(X,w)\n",
    "# Visualizar os dados\n",
    "plot_linear_regression(X,y,yhat)"
   ]
  },
  {
   "cell_type": "code",
   "execution_count": 8,
   "metadata": {},
   "outputs": [
    {
     "name": "stdout",
     "output_type": "stream",
     "text": [
      "R² = 0.9895603408417428\n",
      "MAE = 0.1402085343927553\n",
      "MSE = 0.03226338255868215\n",
      "RMSE = 0.17962010622055136\n"
     ]
    }
   ],
   "source": [
    "# Cálculo direto do R² (coeficiente de determinação)\n",
    "# Mede a proporção da variância nos dados reais que é explicada pelo modelo.\n",
    "# Valor ideal: R² próximo de 1.0 (indica um ótimo ajuste).\n",
    "# Se R² < 0, significa que o modelo é pior que a média simples dos dados.\n",
    "ss_total = np.sum((y - np.mean(y)) ** 2)  # Soma dos quadrados totais\n",
    "ss_residual = np.sum((y - yhat) ** 2)  # Soma dos quadrados residuais\n",
    "r2 = 1 - (ss_residual / ss_total)  # Coeficiente de determinação\n",
    "\n",
    "# Erro Absoluto Médio (MAE):\n",
    "# Mede o erro médio absoluto entre os valores previstos e os reais.\n",
    "# É fácil de interpretar, pois mantém a mesma unidade do valor de saída (y).\n",
    "# Valor ideal: MAE próximo de 0 (indica que as previsões estão muito próximas dos valores reais).\n",
    "mae = np.mean(np.abs(y - yhat))\n",
    "\n",
    "# Erro Quadrático Médio (MSE):\n",
    "# Mede o erro médio quadrático entre os valores previstos e os reais.\n",
    "# Penaliza erros maiores de forma mais severa (devido à elevação ao quadrado).\n",
    "# Valor ideal: MSE próximo de 0. Quanto menor, melhor.\n",
    "mse = np.mean((y - yhat) ** 2)\n",
    "\n",
    "# Raiz do Erro Quadrático Médio (RMSE):\n",
    "# É a raiz quadrada do MSE. Mede o erro médio, mantendo a unidade de saída (y).\n",
    "# Ideal para interpretar o erro médio em problemas práticos.\n",
    "# Valor ideal: RMSE próximo de 0, semelhante ao MAE.\n",
    "rmse = np.sqrt(np.mean((y - yhat) ** 2))\n",
    "\n",
    "print(f\"R² = {r2}\\nMAE = {mae}\\nMSE = {mse}\\nRMSE = {rmse}\")"
   ]
  }
 ],
 "metadata": {
  "kernelspec": {
   "display_name": "Python 3",
   "language": "python",
   "name": "python3"
  },
  "language_info": {
   "codemirror_mode": {
    "name": "ipython",
    "version": 3
   },
   "file_extension": ".py",
   "mimetype": "text/x-python",
   "name": "python",
   "nbconvert_exporter": "python",
   "pygments_lexer": "ipython3",
   "version": "3.10.1"
  }
 },
 "nbformat": 4,
 "nbformat_minor": 2
}
